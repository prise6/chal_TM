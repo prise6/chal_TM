{
  "nbformat": 4,
  "nbformat_minor": 0,
  "metadata": {
    "colab": {
      "name": "simple_lstm.ipynb",
      "version": "0.3.2",
      "provenance": [],
      "collapsed_sections": [],
      "toc_visible": true,
      "include_colab_link": true
    },
    "kernelspec": {
      "name": "python3",
      "display_name": "Python 3"
    },
    "accelerator": "GPU"
  },
  "cells": [
    {
      "cell_type": "markdown",
      "metadata": {
        "id": "view-in-github",
        "colab_type": "text"
      },
      "source": [
        "<a href=\"https://colab.research.google.com/github/thonic92/chal_TM/blob/dev-fv/lstm_final_version.ipynb\" target=\"_parent\"><img src=\"https://colab.research.google.com/assets/colab-badge.svg\" alt=\"Open In Colab\"/></a>"
      ]
    },
    {
      "metadata": {
        "id": "MQgWFKMjg-nY",
        "colab_type": "code",
        "colab": {
          "base_uri": "https://localhost:8080/",
          "height": 34
        },
        "outputId": "91b4e6db-b405-41c6-e709-0768cf851961"
      },
      "cell_type": "code",
      "source": [
        "!python --version"
      ],
      "execution_count": 7,
      "outputs": [
        {
          "output_type": "stream",
          "text": [
            "Python 3.6.6\n"
          ],
          "name": "stdout"
        }
      ]
    },
    {
      "metadata": {
        "id": "vN-9NfQjhmnp",
        "colab_type": "code",
        "outputId": "3673b329-60b7-44ea-f983-327c5d895cde",
        "colab": {
          "base_uri": "https://localhost:8080/",
          "height": 34
        }
      },
      "cell_type": "code",
      "source": [
        "cd /content"
      ],
      "execution_count": 8,
      "outputs": [
        {
          "output_type": "stream",
          "text": [
            "/content\n"
          ],
          "name": "stdout"
        }
      ]
    },
    {
      "metadata": {
        "id": "Y-um_5KDhPhm",
        "colab_type": "code",
        "outputId": "873701b2-6aff-40d6-c7de-9054c0ada231",
        "colab": {
          "base_uri": "https://localhost:8080/",
          "height": 139
        }
      },
      "cell_type": "code",
      "source": [
        "!rm -Rf chal_TM\n",
        "!git clone https://github.com/thonic92/chal_TM.git chal_TM"
      ],
      "execution_count": 9,
      "outputs": [
        {
          "output_type": "stream",
          "text": [
            "Cloning into 'chal_TM'...\n",
            "remote: Enumerating objects: 284, done.\u001b[K\n",
            "remote: Counting objects: 100% (284/284), done.\u001b[K\n",
            "remote: Compressing objects: 100% (173/173), done.\u001b[K\n",
            "remote: Total 284 (delta 190), reused 195 (delta 108), pack-reused 0\u001b[K\n",
            "Receiving objects: 100% (284/284), 394.33 KiB | 723.00 KiB/s, done.\n",
            "Resolving deltas: 100% (190/190), done.\n"
          ],
          "name": "stdout"
        }
      ]
    },
    {
      "metadata": {
        "id": "7lJ2szu6hsvC",
        "colab_type": "code",
        "outputId": "13db2033-3b98-4473-b3b3-06ee2f2ef47e",
        "colab": {
          "base_uri": "https://localhost:8080/",
          "height": 34
        }
      },
      "cell_type": "code",
      "source": [
        "cd /content/chal_TM"
      ],
      "execution_count": 10,
      "outputs": [
        {
          "output_type": "stream",
          "text": [
            "/content/chal_TM\n"
          ],
          "name": "stdout"
        }
      ]
    },
    {
      "metadata": {
        "id": "PsKU0JFUiFEr",
        "colab_type": "code",
        "colab": {}
      },
      "cell_type": "code",
      "source": [
        "!mkdir -p models/simpleLSTMModel/version2"
      ],
      "execution_count": 0,
      "outputs": []
    },
    {
      "metadata": {
        "id": "b7alv_P1hv4a",
        "colab_type": "code",
        "outputId": "1af5c59b-34a1-48e1-92a8-7e300c40d006",
        "colab": {
          "base_uri": "https://localhost:8080/",
          "height": 347
        }
      },
      "cell_type": "code",
      "source": [
        "!ls \n",
        "!git branch -a\n",
        "!git checkout e99d0ab49b8e5024e4983cdd0ecfbfce9eca566c"
      ],
      "execution_count": 12,
      "outputs": [
        {
          "output_type": "stream",
          "text": [
            "data\t Makefile   README.md\trequirements.txt  test_environment.py\n",
            "docs\t models     references\tsetup.py\t  tox.ini\n",
            "LICENSE  notebooks  reports\tsrc\n",
            "* \u001b[32mmaster\u001b[m\n",
            "  \u001b[31mremotes/origin/HEAD\u001b[m -> origin/master\n",
            "  \u001b[31mremotes/origin/dev-fv\u001b[m\n",
            "  \u001b[31mremotes/origin/master\u001b[m\n",
            "Note: checking out 'e99d0ab49b8e5024e4983cdd0ecfbfce9eca566c'.\n",
            "\n",
            "You are in 'detached HEAD' state. You can look around, make experimental\n",
            "changes and commit them, and you can discard any commits you make in this\n",
            "state without impacting any branches by performing another checkout.\n",
            "\n",
            "If you want to create a new branch to retain commits you create, you may\n",
            "do so (now or later) by using -b with the checkout command again. Example:\n",
            "\n",
            "  git checkout -b <new-branch-name>\n",
            "\n",
            "HEAD is now at e99d0ab change LSTM stack\n"
          ],
          "name": "stdout"
        }
      ]
    },
    {
      "metadata": {
        "id": "1vgIydzPEmOL",
        "colab_type": "code",
        "colab": {
          "base_uri": "https://localhost:8080/",
          "height": 2260
        },
        "outputId": "63c312ca-e14d-41f0-df7e-445021164836"
      },
      "cell_type": "code",
      "source": [
        "!python setup.py install"
      ],
      "execution_count": 13,
      "outputs": [
        {
          "output_type": "stream",
          "text": [
            "running install\n",
            "running bdist_egg\n",
            "running egg_info\n",
            "creating src.egg-info\n",
            "writing src.egg-info/PKG-INFO\n",
            "writing dependency_links to src.egg-info/dependency_links.txt\n",
            "writing top-level names to src.egg-info/top_level.txt\n",
            "writing manifest file 'src.egg-info/SOURCES.txt'\n",
            "reading manifest file 'src.egg-info/SOURCES.txt'\n",
            "writing manifest file 'src.egg-info/SOURCES.txt'\n",
            "installing library code to build/bdist.linux-x86_64/egg\n",
            "running install_lib\n",
            "running build_py\n",
            "creating build\n",
            "creating build/lib\n",
            "creating build/lib/src\n",
            "copying src/__init__.py -> build/lib/src\n",
            "copying src/process_simple_lstm.py -> build/lib/src\n",
            "copying src/test.py -> build/lib/src\n",
            "copying src/process_word2vec.py -> build/lib/src\n",
            "creating build/lib/src/visualization\n",
            "copying src/visualization/__init__.py -> build/lib/src/visualization\n",
            "copying src/visualization/visualize.py -> build/lib/src/visualization\n",
            "creating build/lib/src/features\n",
            "copying src/features/__init__.py -> build/lib/src/features\n",
            "copying src/features/build_features.py -> build/lib/src/features\n",
            "creating build/lib/src/models\n",
            "copying src/models/__init__.py -> build/lib/src/models\n",
            "copying src/models/GenerateTweetCallback.py -> build/lib/src/models\n",
            "copying src/models/train_model.py -> build/lib/src/models\n",
            "copying src/models/Word2VecModel.py -> build/lib/src/models\n",
            "copying src/models/ModelTrainer.py -> build/lib/src/models\n",
            "copying src/models/WordDataLoader.py -> build/lib/src/models\n",
            "copying src/models/TweetGenerator.py -> build/lib/src/models\n",
            "copying src/models/AbstractModel.py -> build/lib/src/models\n",
            "copying src/models/predict_model.py -> build/lib/src/models\n",
            "copying src/models/simpleLSTMModel.py -> build/lib/src/models\n",
            "creating build/lib/src/data\n",
            "copying src/data/__init__.py -> build/lib/src/data\n",
            "copying src/data/ReadNestedList.py -> build/lib/src/data\n",
            "copying src/data/make_dataset.py -> build/lib/src/data\n",
            "copying src/data/echantillonnage_donnees.py -> build/lib/src/data\n",
            "copying src/data/main.py -> build/lib/src/data\n",
            "copying src/data/WordData.py -> build/lib/src/data\n",
            "copying src/data/MyTokenize.py -> build/lib/src/data\n",
            "copying src/data/HashtagMerger.py -> build/lib/src/data\n",
            "creating build/bdist.linux-x86_64\n",
            "creating build/bdist.linux-x86_64/egg\n",
            "creating build/bdist.linux-x86_64/egg/src\n",
            "copying build/lib/src/__init__.py -> build/bdist.linux-x86_64/egg/src\n",
            "creating build/bdist.linux-x86_64/egg/src/visualization\n",
            "copying build/lib/src/visualization/__init__.py -> build/bdist.linux-x86_64/egg/src/visualization\n",
            "copying build/lib/src/visualization/visualize.py -> build/bdist.linux-x86_64/egg/src/visualization\n",
            "creating build/bdist.linux-x86_64/egg/src/features\n",
            "copying build/lib/src/features/__init__.py -> build/bdist.linux-x86_64/egg/src/features\n",
            "copying build/lib/src/features/build_features.py -> build/bdist.linux-x86_64/egg/src/features\n",
            "creating build/bdist.linux-x86_64/egg/src/models\n",
            "copying build/lib/src/models/__init__.py -> build/bdist.linux-x86_64/egg/src/models\n",
            "copying build/lib/src/models/GenerateTweetCallback.py -> build/bdist.linux-x86_64/egg/src/models\n",
            "copying build/lib/src/models/train_model.py -> build/bdist.linux-x86_64/egg/src/models\n",
            "copying build/lib/src/models/Word2VecModel.py -> build/bdist.linux-x86_64/egg/src/models\n",
            "copying build/lib/src/models/ModelTrainer.py -> build/bdist.linux-x86_64/egg/src/models\n",
            "copying build/lib/src/models/WordDataLoader.py -> build/bdist.linux-x86_64/egg/src/models\n",
            "copying build/lib/src/models/TweetGenerator.py -> build/bdist.linux-x86_64/egg/src/models\n",
            "copying build/lib/src/models/AbstractModel.py -> build/bdist.linux-x86_64/egg/src/models\n",
            "copying build/lib/src/models/predict_model.py -> build/bdist.linux-x86_64/egg/src/models\n",
            "copying build/lib/src/models/simpleLSTMModel.py -> build/bdist.linux-x86_64/egg/src/models\n",
            "copying build/lib/src/process_simple_lstm.py -> build/bdist.linux-x86_64/egg/src\n",
            "creating build/bdist.linux-x86_64/egg/src/data\n",
            "copying build/lib/src/data/__init__.py -> build/bdist.linux-x86_64/egg/src/data\n",
            "copying build/lib/src/data/ReadNestedList.py -> build/bdist.linux-x86_64/egg/src/data\n",
            "copying build/lib/src/data/make_dataset.py -> build/bdist.linux-x86_64/egg/src/data\n",
            "copying build/lib/src/data/echantillonnage_donnees.py -> build/bdist.linux-x86_64/egg/src/data\n",
            "copying build/lib/src/data/main.py -> build/bdist.linux-x86_64/egg/src/data\n",
            "copying build/lib/src/data/WordData.py -> build/bdist.linux-x86_64/egg/src/data\n",
            "copying build/lib/src/data/MyTokenize.py -> build/bdist.linux-x86_64/egg/src/data\n",
            "copying build/lib/src/data/HashtagMerger.py -> build/bdist.linux-x86_64/egg/src/data\n",
            "copying build/lib/src/test.py -> build/bdist.linux-x86_64/egg/src\n",
            "copying build/lib/src/process_word2vec.py -> build/bdist.linux-x86_64/egg/src\n",
            "byte-compiling build/bdist.linux-x86_64/egg/src/__init__.py to __init__.cpython-36.pyc\n",
            "byte-compiling build/bdist.linux-x86_64/egg/src/visualization/__init__.py to __init__.cpython-36.pyc\n",
            "byte-compiling build/bdist.linux-x86_64/egg/src/visualization/visualize.py to visualize.cpython-36.pyc\n",
            "byte-compiling build/bdist.linux-x86_64/egg/src/features/__init__.py to __init__.cpython-36.pyc\n",
            "byte-compiling build/bdist.linux-x86_64/egg/src/features/build_features.py to build_features.cpython-36.pyc\n",
            "byte-compiling build/bdist.linux-x86_64/egg/src/models/__init__.py to __init__.cpython-36.pyc\n",
            "byte-compiling build/bdist.linux-x86_64/egg/src/models/GenerateTweetCallback.py to GenerateTweetCallback.cpython-36.pyc\n",
            "byte-compiling build/bdist.linux-x86_64/egg/src/models/train_model.py to train_model.cpython-36.pyc\n",
            "byte-compiling build/bdist.linux-x86_64/egg/src/models/Word2VecModel.py to Word2VecModel.cpython-36.pyc\n",
            "byte-compiling build/bdist.linux-x86_64/egg/src/models/ModelTrainer.py to ModelTrainer.cpython-36.pyc\n",
            "byte-compiling build/bdist.linux-x86_64/egg/src/models/WordDataLoader.py to WordDataLoader.cpython-36.pyc\n",
            "byte-compiling build/bdist.linux-x86_64/egg/src/models/TweetGenerator.py to TweetGenerator.cpython-36.pyc\n",
            "byte-compiling build/bdist.linux-x86_64/egg/src/models/AbstractModel.py to AbstractModel.cpython-36.pyc\n",
            "byte-compiling build/bdist.linux-x86_64/egg/src/models/predict_model.py to predict_model.cpython-36.pyc\n",
            "byte-compiling build/bdist.linux-x86_64/egg/src/models/simpleLSTMModel.py to simpleLSTMModel.cpython-36.pyc\n",
            "byte-compiling build/bdist.linux-x86_64/egg/src/process_simple_lstm.py to process_simple_lstm.cpython-36.pyc\n",
            "byte-compiling build/bdist.linux-x86_64/egg/src/data/__init__.py to __init__.cpython-36.pyc\n",
            "byte-compiling build/bdist.linux-x86_64/egg/src/data/ReadNestedList.py to ReadNestedList.cpython-36.pyc\n",
            "byte-compiling build/bdist.linux-x86_64/egg/src/data/make_dataset.py to make_dataset.cpython-36.pyc\n",
            "byte-compiling build/bdist.linux-x86_64/egg/src/data/echantillonnage_donnees.py to echantillonnage_donnees.cpython-36.pyc\n",
            "byte-compiling build/bdist.linux-x86_64/egg/src/data/main.py to main.cpython-36.pyc\n",
            "byte-compiling build/bdist.linux-x86_64/egg/src/data/WordData.py to WordData.cpython-36.pyc\n",
            "byte-compiling build/bdist.linux-x86_64/egg/src/data/MyTokenize.py to MyTokenize.cpython-36.pyc\n",
            "byte-compiling build/bdist.linux-x86_64/egg/src/data/HashtagMerger.py to HashtagMerger.cpython-36.pyc\n",
            "byte-compiling build/bdist.linux-x86_64/egg/src/test.py to test.cpython-36.pyc\n",
            "byte-compiling build/bdist.linux-x86_64/egg/src/process_word2vec.py to process_word2vec.cpython-36.pyc\n",
            "creating build/bdist.linux-x86_64/egg/EGG-INFO\n",
            "copying src.egg-info/PKG-INFO -> build/bdist.linux-x86_64/egg/EGG-INFO\n",
            "copying src.egg-info/SOURCES.txt -> build/bdist.linux-x86_64/egg/EGG-INFO\n",
            "copying src.egg-info/dependency_links.txt -> build/bdist.linux-x86_64/egg/EGG-INFO\n",
            "copying src.egg-info/top_level.txt -> build/bdist.linux-x86_64/egg/EGG-INFO\n",
            "zip_safe flag not set; analyzing archive contents...\n",
            "src.__pycache__.process_simple_lstm.cpython-36: module references __file__\n",
            "src.__pycache__.process_word2vec.cpython-36: module references __file__\n",
            "src.__pycache__.test.cpython-36: module references __file__\n",
            "src.data.__pycache__.main.cpython-36: module references __file__\n",
            "src.data.__pycache__.make_dataset.cpython-36: module references __file__\n",
            "creating dist\n",
            "creating 'dist/src-0.1.0-py3.6.egg' and adding 'build/bdist.linux-x86_64/egg' to it\n",
            "removing 'build/bdist.linux-x86_64/egg' (and everything under it)\n",
            "Processing src-0.1.0-py3.6.egg\n",
            "removing '/usr/local/lib/python3.6/dist-packages/src-0.1.0-py3.6.egg' (and everything under it)\n",
            "creating /usr/local/lib/python3.6/dist-packages/src-0.1.0-py3.6.egg\n",
            "Extracting src-0.1.0-py3.6.egg to /usr/local/lib/python3.6/dist-packages\n",
            "src 0.1.0 is already the active version in easy-install.pth\n",
            "\n",
            "Installed /usr/local/lib/python3.6/dist-packages/src-0.1.0-py3.6.egg\n",
            "Processing dependencies for src==0.1.0\n",
            "Finished processing dependencies for src==0.1.0\n"
          ],
          "name": "stdout"
        }
      ]
    },
    {
      "metadata": {
        "id": "58KEp05LFxjQ",
        "colab_type": "code",
        "colab": {
          "base_uri": "https://localhost:8080/",
          "height": 34
        },
        "outputId": "6122fff7-5874-4bae-95f0-351928ff025f"
      },
      "cell_type": "code",
      "source": [
        "!pip install click"
      ],
      "execution_count": 14,
      "outputs": [
        {
          "output_type": "stream",
          "text": [
            "Requirement already satisfied: click in /usr/local/lib/python3.6/dist-packages (7.0)\n"
          ],
          "name": "stdout"
        }
      ]
    },
    {
      "metadata": {
        "id": "Xy5Mv3LQh5V5",
        "colab_type": "code",
        "colab": {}
      },
      "cell_type": "code",
      "source": [
        "from google.colab import drive\n",
        "import numpy as np\n",
        "import json"
      ],
      "execution_count": 0,
      "outputs": []
    },
    {
      "metadata": {
        "id": "njiUeI5phdrN",
        "colab_type": "code",
        "outputId": "391df274-a65f-4a92-b565-2d5d70769061",
        "colab": {
          "base_uri": "https://localhost:8080/",
          "height": 54
        }
      },
      "cell_type": "code",
      "source": [
        "drive.mount('/content/gdrive')"
      ],
      "execution_count": 16,
      "outputs": [
        {
          "output_type": "stream",
          "text": [
            "Drive already mounted at /content/gdrive; to attempt to forcibly remount, call drive.mount(\"/content/gdrive\", force_remount=True).\n"
          ],
          "name": "stdout"
        }
      ]
    },
    {
      "metadata": {
        "id": "iGA5LGiPFTUg",
        "colab_type": "code",
        "colab": {
          "base_uri": "https://localhost:8080/",
          "height": 4220
        },
        "outputId": "f6371517-b262-4b46-8e3c-d10c1562b323"
      },
      "cell_type": "code",
      "source": [
        "!python src/process_simple_lstm.py run \\\n",
        "/content/gdrive/My\\ Drive/chal_TM \\\n",
        "/content/gdrive/My\\ Drive/chal_TM/simpleLSTM/v2 \\\n",
        "/content/gdrive/My\\ Drive/chal_TM/simpleLSTM/v2 \\\n",
        "0 500 20 5 32 150 200\n"
      ],
      "execution_count": 0,
      "outputs": [
        {
          "output_type": "stream",
          "text": [
            "Using TensorFlow backend.\n",
            "2018-10-31 17:01:33,463 - __main__ - INFO - processTokenize\n",
            "2018-10-31 17:01:33,638 - __main__ - INFO - Class WordData\n",
            "30735\n",
            "2018-10-31 17:01:34,038 - __main__ - INFO - IdWordDataLoader\n",
            "2018-10-31 17:01:34,038 - __main__ - INFO - LSTM model\n",
            "2018-10-31 17:01:35,754 - __main__ - INFO - LSTM model: summary\n",
            "_________________________________________________________________\n",
            "Layer (type)                 Output Shape              Param #   \n",
            "=================================================================\n",
            "embedding_1 (Embedding)      (None, None, 500)         15709000  \n",
            "_________________________________________________________________\n",
            "lstm_1 (LSTM)                (None, None, 500)         2002000   \n",
            "_________________________________________________________________\n",
            "lstm_2 (LSTM)                (None, None, 500)         2002000   \n",
            "_________________________________________________________________\n",
            "dropout_1 (Dropout)          (None, None, 500)         0         \n",
            "_________________________________________________________________\n",
            "time_distributed_1 (TimeDist (None, None, 31418)       15740418  \n",
            "_________________________________________________________________\n",
            "activation_1 (Activation)    (None, None, 31418)       0         \n",
            "=================================================================\n",
            "Total params: 35,453,418\n",
            "Trainable params: 35,453,418\n",
            "Non-trainable params: 0\n",
            "_________________________________________________________________\n",
            "None\n",
            "2018-10-31 17:01:35,755 - __main__ - INFO - Trainer\n",
            "Epoch 1/150\n",
            "2018-10-31 17:01:38.243138: I tensorflow/stream_executor/cuda/cuda_gpu_executor.cc:964] successful NUMA node read from SysFS had negative value (-1), but there must be at least one NUMA node, so returning NUMA node zero\n",
            "2018-10-31 17:01:38.243714: I tensorflow/core/common_runtime/gpu/gpu_device.cc:1432] Found device 0 with properties: \n",
            "name: Tesla K80 major: 3 minor: 7 memoryClockRate(GHz): 0.8235\n",
            "pciBusID: 0000:00:04.0\n",
            "totalMemory: 11.17GiB freeMemory: 11.10GiB\n",
            "2018-10-31 17:01:38.243761: I tensorflow/core/common_runtime/gpu/gpu_device.cc:1511] Adding visible gpu devices: 0\n",
            "2018-10-31 17:01:38.852268: I tensorflow/core/common_runtime/gpu/gpu_device.cc:982] Device interconnect StreamExecutor with strength 1 edge matrix:\n",
            "2018-10-31 17:01:38.852345: I tensorflow/core/common_runtime/gpu/gpu_device.cc:988]      0 \n",
            "2018-10-31 17:01:38.852373: I tensorflow/core/common_runtime/gpu/gpu_device.cc:1001] 0:   N \n",
            "2018-10-31 17:01:38.852732: W tensorflow/core/common_runtime/gpu/gpu_bfc_allocator.cc:42] Overriding allow_growth setting because the TF_FORCE_GPU_ALLOW_GROWTH environment variable is set. Original config value was 0.\n",
            "2018-10-31 17:01:38.852900: I tensorflow/core/common_runtime/gpu/gpu_device.cc:1115] Created TensorFlow device (/job:localhost/replica:0/task:0/device:GPU:0 with 10758 MB memory) -> physical GPU (device: 0, name: Tesla K80, pci bus id: 0000:00:04.0, compute capability: 3.7)\n",
            "200/200 [==============================] - 67s 334ms/step - loss: 7.0230 - categorical_accuracy: 0.0441\n",
            "{\"metric\": \"accuracy\", \"value\":0.04410156247031409 } {\"metric\": \"loss\", \"value\":7.022988593578338 }\n",
            "2024 2024 2024 2024 2024 2024 2024 2024 2024 2024 2024 2024 2024 2024 2024 2024 2024 2024 2024 2024 2024 2024 2024 2024 2024 2024 2024 2024 2024 2024\n",
            "\n",
            "\n",
            "distinction _SENTENCE_STOP_\n",
            "\n",
            "\n",
            "Epoch 2/150\n",
            "200/200 [==============================] - 64s 321ms/step - loss: 6.4474 - categorical_accuracy: 0.0445\n",
            "{\"metric\": \"accuracy\", \"value\":0.044515625098720195 } {\"metric\": \"loss\", \"value\":6.44736674785614 }\n",
            "Epoch 3/150\n",
            "200/200 [==============================] - 64s 321ms/step - loss: 6.3893 - categorical_accuracy: 0.0457\n",
            "{\"metric\": \"accuracy\", \"value\":0.04567968752235174 } {\"metric\": \"loss\", \"value\":6.389294590950012 }\n",
            "Epoch 4/150\n",
            "200/200 [==============================] - 64s 321ms/step - loss: 6.3581 - categorical_accuracy: 0.0520\n",
            "{\"metric\": \"accuracy\", \"value\":0.052031250009313225 } {\"metric\": \"loss\", \"value\":6.358100006580353 }\n",
            "Epoch 5/150\n",
            "200/200 [==============================] - 64s 321ms/step - loss: 6.3188 - categorical_accuracy: 0.0568\n",
            "{\"metric\": \"accuracy\", \"value\":0.05682031257078052 } {\"metric\": \"loss\", \"value\":6.31876959323883 }\n",
            "Epoch 6/150\n",
            "200/200 [==============================] - 64s 318ms/step - loss: 6.2877 - categorical_accuracy: 0.0612\n",
            "{\"metric\": \"accuracy\", \"value\":0.06123437490314245 } {\"metric\": \"loss\", \"value\":6.28769823551178 }\n",
            "Epoch 7/150\n",
            "200/200 [==============================] - 64s 320ms/step - loss: 6.1914 - categorical_accuracy: 0.0794\n",
            "{\"metric\": \"accuracy\", \"value\":0.07939062509685754 } {\"metric\": \"loss\", \"value\":6.191418561935425 }\n",
            "Epoch 8/150\n",
            "200/200 [==============================] - 65s 323ms/step - loss: 6.0139 - categorical_accuracy: 0.1082\n",
            "{\"metric\": \"accuracy\", \"value\":0.1081953128799796 } {\"metric\": \"loss\", \"value\":6.013880712985992 }\n",
            "Epoch 9/150\n",
            "200/200 [==============================] - 64s 322ms/step - loss: 5.6917 - categorical_accuracy: 0.1297\n",
            "{\"metric\": \"accuracy\", \"value\":0.1296875001117587 } {\"metric\": \"loss\", \"value\":5.691721692085266 }\n",
            "Epoch 10/150\n",
            "200/200 [==============================] - 64s 322ms/step - loss: 5.3885 - categorical_accuracy: 0.1480\n",
            "{\"metric\": \"accuracy\", \"value\":0.1479609376937151 } {\"metric\": \"loss\", \"value\":5.388528475761413 }\n",
            "Epoch 11/150\n",
            "200/200 [==============================] - 64s 321ms/step - loss: 5.1629 - categorical_accuracy: 0.1636\n",
            "{\"metric\": \"accuracy\", \"value\":0.16360156234353782 } {\"metric\": \"loss\", \"value\":5.1628586602211 }\n",
            "_MENTION_ _MENTION_ _MENTION_ _MENTION_ _MENTION_ _MENTION_ _MENTION_ _MENTION_ _MENTION_ _MENTION_ _MENTION_ _MENTION_ _MENTION_ _MENTION_ _MENTION_ _MENTION_ _MENTION_ _MENTION_ _MENTION_ _MENTION_ _MENTION_ _MENTION_ _MENTION_ _MENTION_ _MENTION_ _MENTION_ _MENTION_ _MENTION_ _MENTION_ _MENTION_\n",
            "\n",
            "\n",
            "contre-courant _HASHTAG_ _SENTENCE_STOP_\n",
            "\n",
            "\n",
            "Epoch 12/150\n",
            "200/200 [==============================] - 64s 322ms/step - loss: 4.9796 - categorical_accuracy: 0.1784\n",
            "{\"metric\": \"accuracy\", \"value\":0.17842968758195638 } {\"metric\": \"loss\", \"value\":4.9796259665489195 }\n",
            "Epoch 13/150\n",
            "200/200 [==============================] - 65s 323ms/step - loss: 4.8139 - categorical_accuracy: 0.1913\n",
            "{\"metric\": \"accuracy\", \"value\":0.191328125 } {\"metric\": \"loss\", \"value\":4.81393803358078 }\n",
            "Epoch 14/150\n",
            "200/200 [==============================] - 64s 322ms/step - loss: 4.6671 - categorical_accuracy: 0.2008\n",
            "{\"metric\": \"accuracy\", \"value\":0.20082031205296516 } {\"metric\": \"loss\", \"value\":4.667073965072632 }\n",
            "Epoch 15/150\n",
            "200/200 [==============================] - 64s 320ms/step - loss: 4.5353 - categorical_accuracy: 0.2080\n",
            "{\"metric\": \"accuracy\", \"value\":0.2080000002682209 } {\"metric\": \"loss\", \"value\":4.535305507183075 }\n",
            "Epoch 16/150\n",
            "200/200 [==============================] - 64s 319ms/step - loss: 4.4173 - categorical_accuracy: 0.2157\n",
            "{\"metric\": \"accuracy\", \"value\":0.21571874976158142 } {\"metric\": \"loss\", \"value\":4.417254356145858 }\n",
            "Epoch 17/150\n",
            "200/200 [==============================] - 64s 319ms/step - loss: 4.2911 - categorical_accuracy: 0.2256\n",
            "{\"metric\": \"accuracy\", \"value\":0.22557031244039535 } {\"metric\": \"loss\", \"value\":4.291131421327591 }\n",
            "Epoch 18/150\n",
            "200/200 [==============================] - 64s 318ms/step - loss: 4.1780 - categorical_accuracy: 0.2337\n",
            "{\"metric\": \"accuracy\", \"value\":0.23371875047683716 } {\"metric\": \"loss\", \"value\":4.1779837381839755 }\n",
            "Epoch 19/150\n",
            "200/200 [==============================] - 64s 319ms/step - loss: 4.0590 - categorical_accuracy: 0.2446\n",
            "{\"metric\": \"accuracy\", \"value\":0.24461718738079072 } {\"metric\": \"loss\", \"value\":4.059025007486343 }\n",
            "Epoch 20/150\n",
            "200/200 [==============================] - 64s 318ms/step - loss: 3.9516 - categorical_accuracy: 0.2562\n",
            "{\"metric\": \"accuracy\", \"value\":0.2562421876192093 } {\"metric\": \"loss\", \"value\":3.951552983522415 }\n",
            "\n",
            "Epoch 00020: saving model to /content/gdrive/My Drive/chal_TM/simpleLSTM/v2/model-20.hdf5\n",
            "Epoch 21/150\n",
            "200/200 [==============================] - 64s 321ms/step - loss: 3.8487 - categorical_accuracy: 0.2658\n",
            "{\"metric\": \"accuracy\", \"value\":0.26577343724668023 } {\"metric\": \"loss\", \"value\":3.848743185997009 }\n",
            "_MENTION_ _MENTION_ _MENTION_ _MENTION_ _MENTION_ _MENTION_ _MENTION_ _MENTION_ _MENTION_ _MENTION_ _MENTION_ _MENTION_ _MENTION_ _MENTION_ _MENTION_ _MENTION_ _MENTION_ _MENTION_ _MENTION_ _MENTION_ _MENTION_ _MENTION_ _MENTION_ _MENTION_ _MENTION_ _MENTION_ _MENTION_ _MENTION_ _MENTION_ _MENTION_\n",
            "\n",
            "\n",
            "# https://t.co/bahq9qokla a _HASHTAG_ pour les #jo2024 _SENTENCE_STOP_\n",
            "\n",
            "\n",
            "Epoch 22/150\n",
            "200/200 [==============================] - 64s 318ms/step - loss: 3.7470 - categorical_accuracy: 0.2754\n",
            "{\"metric\": \"accuracy\", \"value\":0.27542968809604645 } {\"metric\": \"loss\", \"value\":3.7469766581058503 }\n",
            "Epoch 23/150\n",
            "200/200 [==============================] - 64s 318ms/step - loss: 3.6347 - categorical_accuracy: 0.2879\n",
            "{\"metric\": \"accuracy\", \"value\":0.2879296872764826 } {\"metric\": \"loss\", \"value\":3.6346557867527007 }\n",
            "Epoch 24/150\n",
            "200/200 [==============================] - 64s 318ms/step - loss: 3.5356 - categorical_accuracy: 0.2992\n",
            "{\"metric\": \"accuracy\", \"value\":0.299156249538064 } {\"metric\": \"loss\", \"value\":3.535561637878418 }\n",
            "Epoch 25/150\n",
            "200/200 [==============================] - 64s 318ms/step - loss: 3.4386 - categorical_accuracy: 0.3085\n",
            "{\"metric\": \"accuracy\", \"value\":0.30849218629300595 } {\"metric\": \"loss\", \"value\":3.4386327028274537 }\n",
            "Epoch 26/150\n",
            "200/200 [==============================] - 64s 318ms/step - loss: 3.3424 - categorical_accuracy: 0.3218\n",
            "{\"metric\": \"accuracy\", \"value\":0.3218359375 } {\"metric\": \"loss\", \"value\":3.3423793494701384 }\n",
            "Epoch 27/150\n",
            "200/200 [==============================] - 64s 318ms/step - loss: 3.2499 - categorical_accuracy: 0.3318\n",
            "{\"metric\": \"accuracy\", \"value\":0.3318203118443489 } {\"metric\": \"loss\", \"value\":3.2498546874523164 }\n",
            "Epoch 28/150\n",
            "200/200 [==============================] - 64s 318ms/step - loss: 3.1602 - categorical_accuracy: 0.3447\n",
            "{\"metric\": \"accuracy\", \"value\":0.34472656235098836 } {\"metric\": \"loss\", \"value\":3.1602309882640838 }\n",
            "Epoch 29/150\n",
            "200/200 [==============================] - 64s 318ms/step - loss: 3.0621 - categorical_accuracy: 0.3595\n",
            "{\"metric\": \"accuracy\", \"value\":0.3594687493145466 } {\"metric\": \"loss\", \"value\":3.0620808386802674 }\n",
            "Epoch 30/150\n",
            "200/200 [==============================] - 63s 317ms/step - loss: 2.9743 - categorical_accuracy: 0.3733\n",
            "{\"metric\": \"accuracy\", \"value\":0.37328125089406966 } {\"metric\": \"loss\", \"value\":2.9742652308940887 }\n",
            "Epoch 31/150\n",
            "200/200 [==============================] - 64s 318ms/step - loss: 2.8770 - categorical_accuracy: 0.3874\n",
            "{\"metric\": \"accuracy\", \"value\":0.38742968752980234 } {\"metric\": \"loss\", \"value\":2.8769955432415006 }\n",
            "_MENTION_ _MENTION_ _MENTION_ _MENTION_ _MENTION_ _MENTION_ _MENTION_ _MENTION_ _MENTION_ _MENTION_ _MENTION_ _MENTION_ _MENTION_ _MENTION_ _MENTION_ _MENTION_ _MENTION_ _MENTION_ _MENTION_ _MENTION_ _MENTION_ _MENTION_ _MENTION_ _MENTION_ _MENTION_ _MENTION_ _MENTION_ _MENTION_ _MENTION_ _MENTION_\n",
            "\n",
            "\n",
            "mates pour #paris2024 , il y a pas que l' ouverture du sport ... _SENTENCE_STOP_\n",
            "\n",
            "\n",
            "Epoch 32/150\n",
            "200/200 [==============================] - 64s 318ms/step - loss: 2.7825 - categorical_accuracy: 0.4027\n",
            "{\"metric\": \"accuracy\", \"value\":0.40265625089406964 } {\"metric\": \"loss\", \"value\":2.782490873336792 }\n",
            "Epoch 33/150\n",
            "200/200 [==============================] - 64s 318ms/step - loss: 2.6857 - categorical_accuracy: 0.4180\n",
            "{\"metric\": \"accuracy\", \"value\":0.4179531246423721 } {\"metric\": \"loss\", \"value\":2.685668407678604 }\n",
            "Epoch 34/150\n",
            "200/200 [==============================] - 63s 317ms/step - loss: 2.5931 - categorical_accuracy: 0.4371\n",
            "{\"metric\": \"accuracy\", \"value\":0.4370937503874302 } {\"metric\": \"loss\", \"value\":2.5931071603298186 }\n",
            "Epoch 35/150\n",
            "200/200 [==============================] - 63s 316ms/step - loss: 2.5019 - categorical_accuracy: 0.4520\n",
            "{\"metric\": \"accuracy\", \"value\":0.45196093678474425 } {\"metric\": \"loss\", \"value\":2.5018900799751282 }\n",
            "Epoch 36/150\n",
            "200/200 [==============================] - 63s 317ms/step - loss: 2.4236 - categorical_accuracy: 0.4655\n",
            "{\"metric\": \"accuracy\", \"value\":0.4654921866953373 } {\"metric\": \"loss\", \"value\":2.4235628736019135 }\n",
            "Epoch 37/150\n",
            "200/200 [==============================] - 63s 317ms/step - loss: 2.3376 - categorical_accuracy: 0.4822\n",
            "{\"metric\": \"accuracy\", \"value\":0.4821874988079071 } {\"metric\": \"loss\", \"value\":2.3375721406936645 }\n",
            "Epoch 38/150\n",
            "200/200 [==============================] - 66s 329ms/step - loss: 2.2605 - categorical_accuracy: 0.4959\n",
            "{\"metric\": \"accuracy\", \"value\":0.49593750029802325 } {\"metric\": \"loss\", \"value\":2.2605324810743332 }\n",
            "Epoch 39/150\n",
            "200/200 [==============================] - 64s 318ms/step - loss: 2.1739 - categorical_accuracy: 0.5122\n",
            "{\"metric\": \"accuracy\", \"value\":0.5121718749403954 } {\"metric\": \"loss\", \"value\":2.1739061468839647 }\n",
            "Epoch 40/150\n",
            "200/200 [==============================] - 63s 317ms/step - loss: 2.0927 - categorical_accuracy: 0.5301\n",
            "{\"metric\": \"accuracy\", \"value\":0.5300859378278255 } {\"metric\": \"loss\", \"value\":2.0927356576919554 }\n",
            "\n",
            "Epoch 00040: saving model to /content/gdrive/My Drive/chal_TM/simpleLSTM/v2/model-40.hdf5\n",
            "Epoch 41/150\n",
            "200/200 [==============================] - 64s 321ms/step - loss: 2.0109 - categorical_accuracy: 0.5473\n",
            "{\"metric\": \"accuracy\", \"value\":0.5472890610992909 } {\"metric\": \"loss\", \"value\":2.0109300881624224 }\n",
            "_MENTION_ _MENTION_ rigoureusement contre les #jo2024 a paris ? _SENTENCE_STOP_\n",
            "\n",
            "\n",
            "posera pour #paris2024 ? _SENTENCE_STOP_\n",
            "\n",
            "\n",
            "Epoch 42/150\n",
            "200/200 [==============================] - 63s 317ms/step - loss: 1.9392 - categorical_accuracy: 0.5615\n",
            "{\"metric\": \"accuracy\", \"value\":0.5614765620231629 } {\"metric\": \"loss\", \"value\":1.9391960036754607 }\n",
            "Epoch 43/150\n",
            "200/200 [==============================] - 63s 317ms/step - loss: 1.8693 - categorical_accuracy: 0.5771\n",
            "{\"metric\": \"accuracy\", \"value\":0.5771015617251396 } {\"metric\": \"loss\", \"value\":1.8693368512392043 }\n",
            "Epoch 44/150\n",
            "200/200 [==============================] - 64s 318ms/step - loss: 1.7946 - categorical_accuracy: 0.5920\n",
            "{\"metric\": \"accuracy\", \"value\":0.5919843736290932 } {\"metric\": \"loss\", \"value\":1.7946256095170974 }\n",
            "Epoch 45/150\n",
            "200/200 [==============================] - 63s 316ms/step - loss: 1.7187 - categorical_accuracy: 0.6092\n",
            "{\"metric\": \"accuracy\", \"value\":0.6091953107714653 } {\"metric\": \"loss\", \"value\":1.7187012732028961 }\n",
            "Epoch 46/150\n",
            "200/200 [==============================] - 63s 317ms/step - loss: 1.6600 - categorical_accuracy: 0.6209\n",
            "{\"metric\": \"accuracy\", \"value\":0.6208906272053718 } {\"metric\": \"loss\", \"value\":1.6600060588121415 }\n",
            "Epoch 47/150\n",
            "200/200 [==============================] - 64s 318ms/step - loss: 1.5938 - categorical_accuracy: 0.6378\n",
            "{\"metric\": \"accuracy\", \"value\":0.6377968752384185 } {\"metric\": \"loss\", \"value\":1.593806090950966 }\n",
            "Epoch 48/150\n",
            "200/200 [==============================] - 64s 319ms/step - loss: 1.5368 - categorical_accuracy: 0.6486\n",
            "{\"metric\": \"accuracy\", \"value\":0.6486249986290932 } {\"metric\": \"loss\", \"value\":1.53679945230484 }\n",
            "Epoch 49/150\n",
            "200/200 [==============================] - 64s 319ms/step - loss: 1.4787 - categorical_accuracy: 0.6597\n",
            "{\"metric\": \"accuracy\", \"value\":0.6596875008940697 } {\"metric\": \"loss\", \"value\":1.4786595797538757 }\n",
            "Epoch 50/150\n",
            "200/200 [==============================] - 63s 317ms/step - loss: 1.4186 - categorical_accuracy: 0.6740\n",
            "{\"metric\": \"accuracy\", \"value\":0.674046873152256 } {\"metric\": \"loss\", \"value\":1.4186392784118653 }\n",
            "Epoch 51/150\n",
            "200/200 [==============================] - 64s 318ms/step - loss: 1.3731 - categorical_accuracy: 0.6827\n",
            "{\"metric\": \"accuracy\", \"value\":0.682734375 } {\"metric\": \"loss\", \"value\":1.3730854943394661 }\n",
            "_MENTION_ _MENTION_     tres belle presentation des ateliers pour le _HASHTAG_ #paris2024 pour feter _HASHTAG_ sur _MENTION_ et _MENTION_ , on est bien laura _HASHTAG_ _HASHTAG_ _SENTENCE_STOP_\n",
            "\n",
            "\n",
            "daumesnil pour #paris2024 ? _HASHTAG_ _SENTENCE_STOP_\n",
            "\n",
            "\n",
            "Epoch 52/150\n",
            "200/200 [==============================] - 64s 318ms/step - loss: 1.3221 - categorical_accuracy: 0.6953\n",
            "{\"metric\": \"accuracy\", \"value\":0.695289061665535 } {\"metric\": \"loss\", \"value\":1.3221375235915185 }\n",
            "Epoch 53/150\n",
            "200/200 [==============================] - 64s 319ms/step - loss: 1.2658 - categorical_accuracy: 0.7083\n",
            "{\"metric\": \"accuracy\", \"value\":0.7082734367251396 } {\"metric\": \"loss\", \"value\":1.265829574763775 }\n",
            "Epoch 54/150\n",
            " 54/200 [=======>......................] - ETA: 46s - loss: 1.2051 - categorical_accuracy: 0.7247"
          ],
          "name": "stdout"
        }
      ]
    },
    {
      "metadata": {
        "id": "SrtKDe8MNYmh",
        "colab_type": "text"
      },
      "cell_type": "markdown",
      "source": [
        ""
      ]
    }
  ]
}