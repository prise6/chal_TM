{
 "cells": [
  {
   "cell_type": "code",
   "execution_count": 4,
   "metadata": {},
   "outputs": [],
   "source": [
    "%load_ext autoreload"
   ]
  },
  {
   "cell_type": "code",
   "execution_count": 5,
   "metadata": {},
   "outputs": [],
   "source": [
    "%autoreload 2"
   ]
  },
  {
   "cell_type": "code",
   "execution_count": 10,
   "metadata": {},
   "outputs": [],
   "source": [
    "import logging\n",
    "from pathlib import Path\n",
    "from src.data.WordData import WordData\n",
    "import json\n",
    "import numpy as np\n",
    "from src.models.WordDataLoader import WordDataLoader\n",
    "from src.models.simpleLSTMModel import simpleLSTMModel\n",
    "from src.models.WordDataLoader import IdWordDataLoader\n",
    "from src.models.ModelTrainer import ModelTrainer\n",
    "from src.models.TweetGenerator import TweetGenerator\n",
    "from src.models.GenerateTweetCallback import GenerateTweetCallback\n",
    "from keras.models import load_model\n",
    "import pandas as pd"
   ]
  },
  {
   "cell_type": "code",
   "execution_count": null,
   "metadata": {},
   "outputs": [],
   "source": []
  },
  {
   "cell_type": "code",
   "execution_count": 11,
   "metadata": {},
   "outputs": [
    {
     "name": "stdout",
     "output_type": "stream",
     "text": [
      "23744\n",
      "26487\n",
      "_________________________________________________________________\n",
      "Layer (type)                 Output Shape              Param #   \n",
      "=================================================================\n",
      "embedding_1 (Embedding)      (None, None, 300)         7946100   \n",
      "_________________________________________________________________\n",
      "lstm_1 (LSTM)                (None, None, 300)         721200    \n",
      "_________________________________________________________________\n",
      "lstm_2 (LSTM)                (None, None, 300)         721200    \n",
      "_________________________________________________________________\n",
      "dropout_1 (Dropout)          (None, None, 300)         0         \n",
      "_________________________________________________________________\n",
      "time_distributed_1 (TimeDist (None, None, 26487)       7972587   \n",
      "_________________________________________________________________\n",
      "activation_1 (Activation)    (None, None, 26487)       0         \n",
      "=================================================================\n",
      "Total params: 17,361,087\n",
      "Trainable params: 17,361,087\n",
      "Non-trainable params: 0\n",
      "_________________________________________________________________\n",
      "None\n"
     ]
    },
    {
     "name": "stderr",
     "output_type": "stream",
     "text": [
      "/home/prise6/anaconda3/envs/py35/lib/python3.5/site-packages/keras/engine/sequential.py:110: UserWarning: `Sequential.model` is deprecated. `Sequential` is a subclass of `Model`, you can just use your `Sequential` instance directly.\n",
      "  warnings.warn('`Sequential.model` is deprecated. '\n"
     ]
    }
   ],
   "source": [
    "with open('../data/interim/tokens_2.json') as f:\n",
    "    tokens = json.load(f)\n",
    "\n",
    "tweets_tokens = pd.read_csv('../data/interim/tweets_2.csv')\n",
    "tokens_ss_pbm = tweets_tokens[(tweets_tokens.count_hashtag_ano <= 2)  & (tweets_tokens.count_mention_ano <= 1)].index\n",
    "\n",
    "\n",
    "with open('../data/interim/tokens_id_keep_2.json') as f:\n",
    "    tokens_id_keep = json.load(f)\n",
    "\n",
    "tokens_id_keep = list(set(tokens_id_keep) & set(tokens_ss_pbm))\n",
    "print(len(tokens_id_keep))\n",
    "                            \n",
    "word_data = WordData(tokens, tokens_id_keep, 0)\n",
    "\n",
    "# print(word_data.token_final[1:4])\n",
    "\n",
    "print(word_data.getVocabularyLength())\n",
    "\n",
    "# print(word_data.ref_word_to_id)\n",
    "\n",
    "sentence_loader = IdWordDataLoader(20, 5, word_data, 1, 1)\n",
    "\n",
    "# for x,y in word_data_loader.generate():\n",
    "# \tprint(x)\n",
    "# \tprint(y)\n",
    "# \tbreak\n",
    "\n",
    "lstm_model = load_model('../models/simpleLSTMModel/version3/model-160.hdf5')\n",
    "# lstm_model = simpleLSTMModel(word_data.getVocabularyLength(), LSTM_HIDDEN_SIZE, (None, None))\n",
    "# print(lstm_model.model.summary())\n",
    "\n",
    "# lstm_model.save()\n",
    "# callbacks = [generate_tweet_callback]\n",
    "# trainer = ModelTrainer(lstm_model, word_data_loader, NB_EPOCH, workers = 3, use_multiprocessing = True, callbacks = callbacks)\n",
    "# trainer.train()\n",
    "\n",
    "# lstm_model.save_directory = '../models/simpleLSTMModel/version1'\n",
    "# lstm_model.load('model-60')\n",
    "print(lstm_model.model.summary())"
   ]
  },
  {
   "cell_type": "code",
   "execution_count": 12,
   "metadata": {},
   "outputs": [
    {
     "name": "stdout",
     "output_type": "stream",
     "text": [
      "[26484]\n"
     ]
    },
    {
     "name": "stderr",
     "output_type": "stream",
     "text": [
      "/home/prise6/anaconda3/envs/py35/lib/python3.5/site-packages/keras/engine/sequential.py:110: UserWarning: `Sequential.model` is deprecated. `Sequential` is a subclass of `Model`, you can just use your `Sequential` instance directly.\n",
      "  warnings.warn('`Sequential.model` is deprecated. '\n"
     ]
    }
   ],
   "source": [
    "tweet_generator = TweetGenerator(lstm_model, word_data)\n",
    "t = tweet_generator.tweet()"
   ]
  },
  {
   "cell_type": "code",
   "execution_count": 13,
   "metadata": {},
   "outputs": [
    {
     "data": {
      "text/plain": [
       "'#paris2024 : la candidature de paris pour les #jo2024 _SENTENCE_STOP_'"
      ]
     },
     "execution_count": 13,
     "metadata": {},
     "output_type": "execute_result"
    }
   ],
   "source": [
    "' '.join(t)"
   ]
  },
  {
   "cell_type": "code",
   "execution_count": 14,
   "metadata": {},
   "outputs": [
    {
     "name": "stdout",
     "output_type": "stream",
     "text": [
      "[3512]\n"
     ]
    },
    {
     "name": "stderr",
     "output_type": "stream",
     "text": [
      "/home/prise6/anaconda3/envs/py35/lib/python3.5/site-packages/keras/engine/sequential.py:110: UserWarning: `Sequential.model` is deprecated. `Sequential` is a subclass of `Model`, you can just use your `Sequential` instance directly.\n",
      "  warnings.warn('`Sequential.model` is deprecated. '\n"
     ]
    }
   ],
   "source": [
    "t = tweet_generator.randomTweet(stop = 100)"
   ]
  },
  {
   "cell_type": "code",
   "execution_count": 15,
   "metadata": {},
   "outputs": [
    {
     "data": {
      "text/plain": [
       "'restons pour #paris2024 _SENTENCE_STOP_'"
      ]
     },
     "execution_count": 15,
     "metadata": {},
     "output_type": "execute_result"
    }
   ],
   "source": [
    "' '.join(t)"
   ]
  },
  {
   "cell_type": "code",
   "execution_count": 24,
   "metadata": {},
   "outputs": [],
   "source": [
    "phrase = ['je']\n",
    "id_token = [word_data.ref_word_to_id[word_data.sentence_token_start]]\n",
    "for mot in phrase:\n",
    "    id_token.append(word_data.ref_word_to_id[mot])"
   ]
  },
  {
   "cell_type": "code",
   "execution_count": 25,
   "metadata": {},
   "outputs": [
    {
     "name": "stdout",
     "output_type": "stream",
     "text": [
      "[26484    49]\n"
     ]
    },
    {
     "name": "stderr",
     "output_type": "stream",
     "text": [
      "/home/prise6/anaconda3/envs/py35/lib/python3.5/site-packages/keras/engine/sequential.py:110: UserWarning: `Sequential.model` is deprecated. `Sequential` is a subclass of `Model`, you can just use your `Sequential` instance directly.\n",
      "  warnings.warn('`Sequential.model` is deprecated. '\n"
     ]
    },
    {
     "data": {
      "text/plain": [
       "\"_SENTENCE_START_ je suis contre les #jo2024 a paris , c' est pour les #jo2024 _SENTENCE_STOP_\""
      ]
     },
     "execution_count": 25,
     "metadata": {},
     "output_type": "execute_result"
    }
   ],
   "source": [
    "' '.join(tweet_generator.tweet(np.array(id_token)))"
   ]
  }
 ],
 "metadata": {
  "kernelspec": {
   "display_name": "Python 3",
   "language": "python",
   "name": "python3"
  },
  "language_info": {
   "codemirror_mode": {
    "name": "ipython",
    "version": 3
   },
   "file_extension": ".py",
   "mimetype": "text/x-python",
   "name": "python",
   "nbconvert_exporter": "python",
   "pygments_lexer": "ipython3",
   "version": "3.5.4"
  }
 },
 "nbformat": 4,
 "nbformat_minor": 2
}
