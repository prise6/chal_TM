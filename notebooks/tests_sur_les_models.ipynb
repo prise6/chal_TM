{
 "cells": [
  {
   "cell_type": "code",
   "execution_count": 1,
   "metadata": {},
   "outputs": [],
   "source": [
    "%load_ext autoreload"
   ]
  },
  {
   "cell_type": "code",
   "execution_count": 2,
   "metadata": {},
   "outputs": [],
   "source": [
    "%autoreload 2"
   ]
  },
  {
   "cell_type": "code",
   "execution_count": 3,
   "metadata": {},
   "outputs": [
    {
     "name": "stdout",
     "output_type": "stream",
     "text": [
      "/home/prise6/anaconda3/envs/py35/bin/ipython\r\n"
     ]
    }
   ],
   "source": [
    "!which ipython"
   ]
  },
  {
   "cell_type": "code",
   "execution_count": 4,
   "metadata": {},
   "outputs": [
    {
     "name": "stderr",
     "output_type": "stream",
     "text": [
      "/home/prise6/anaconda3/envs/py35/lib/python3.5/site-packages/h5py/__init__.py:36: FutureWarning: Conversion of the second argument of issubdtype from `float` to `np.floating` is deprecated. In future, it will be treated as `np.float64 == np.dtype(float).type`.\n",
      "  from ._conv import register_converters as _register_converters\n",
      "Using TensorFlow backend.\n"
     ]
    }
   ],
   "source": [
    "import logging\n",
    "from pathlib import Path\n",
    "from src.data.WordData import WordData\n",
    "import json\n",
    "import numpy as np\n",
    "from src.models.WordDataLoader import WordDataLoader\n",
    "from src.models.simpleLSTMModel import simpleLSTMModel\n",
    "from src.models.WordDataLoader import IdWordDataLoader\n",
    "from src.models.ModelTrainer import ModelTrainer\n",
    "from src.models.TweetGenerator import TweetGenerator\n",
    "from src.models.GenerateTweetCallback import GenerateTweetCallback\n",
    "from keras.models import load_model"
   ]
  },
  {
   "cell_type": "code",
   "execution_count": null,
   "metadata": {},
   "outputs": [],
   "source": []
  },
  {
   "cell_type": "code",
   "execution_count": 5,
   "metadata": {},
   "outputs": [],
   "source": [
    "NUM_STEP = 20\n",
    "BATCH_SIZE = 256\n",
    "NB_TOKEN_KEEP = 0\n",
    "NB_EPOCH = 1\n",
    "LSTM_HIDDEN_SIZE = 100"
   ]
  },
  {
   "cell_type": "code",
   "execution_count": 6,
   "metadata": {},
   "outputs": [
    {
     "name": "stdout",
     "output_type": "stream",
     "text": [
      "31418\n",
      "_________________________________________________________________\n",
      "Layer (type)                 Output Shape              Param #   \n",
      "=================================================================\n",
      "embedding_1 (Embedding)      (None, None, 500)         15709000  \n",
      "_________________________________________________________________\n",
      "lstm_1 (LSTM)                (None, None, 500)         2002000   \n",
      "_________________________________________________________________\n",
      "lstm_2 (LSTM)                (None, None, 500)         2002000   \n",
      "_________________________________________________________________\n",
      "dropout_1 (Dropout)          (None, None, 500)         0         \n",
      "_________________________________________________________________\n",
      "time_distributed_1 (TimeDist (None, None, 31418)       15740418  \n",
      "_________________________________________________________________\n",
      "activation_1 (Activation)    (None, None, 31418)       0         \n",
      "=================================================================\n",
      "Total params: 35,453,418\n",
      "Trainable params: 35,453,418\n",
      "Non-trainable params: 0\n",
      "_________________________________________________________________\n",
      "None\n"
     ]
    },
    {
     "name": "stderr",
     "output_type": "stream",
     "text": [
      "/home/prise6/anaconda3/envs/py35/lib/python3.5/site-packages/keras/engine/sequential.py:110: UserWarning: `Sequential.model` is deprecated. `Sequential` is a subclass of `Model`, you can just use your `Sequential` instance directly.\n",
      "  warnings.warn('`Sequential.model` is deprecated. '\n"
     ]
    }
   ],
   "source": [
    "with open('../data/interim/tokens.json') as f:\n",
    "    tokens = json.load(f)\n",
    "\n",
    "with open('../data/interim/tokens_id_keep.json') as f:\n",
    "    tokens_id_keep = json.load(f)\n",
    "\n",
    "word_data = WordData(tokens, tokens_id_keep, NB_TOKEN_KEEP)\n",
    "\n",
    "# print(word_data.token_final[1:4])\n",
    "\n",
    "print(word_data.getVocabularyLength())\n",
    "\n",
    "# print(word_data.ref_word_to_id)\n",
    "\n",
    "sentence_loader = IdWordDataLoader(20, 5, word_data, 1, 1)\n",
    "\n",
    "# for x,y in word_data_loader.generate():\n",
    "# \tprint(x)\n",
    "# \tprint(y)\n",
    "# \tbreak\n",
    "\n",
    "lstm_model = load_model('../models/simpleLSTMModel/version2/final_model_colab.hdf5')\n",
    "# lstm_model = simpleLSTMModel(word_data.getVocabularyLength(), LSTM_HIDDEN_SIZE, (None, None))\n",
    "# print(lstm_model.model.summary())\n",
    "\n",
    "# lstm_model.save()\n",
    "# callbacks = [generate_tweet_callback]\n",
    "# trainer = ModelTrainer(lstm_model, word_data_loader, NB_EPOCH, workers = 3, use_multiprocessing = True, callbacks = callbacks)\n",
    "# trainer.train()\n",
    "\n",
    "# lstm_model.save_directory = '../models/simpleLSTMModel/version1'\n",
    "# lstm_model.load('model-60')\n",
    "print(lstm_model.model.summary())"
   ]
  },
  {
   "cell_type": "code",
   "execution_count": 10,
   "metadata": {},
   "outputs": [],
   "source": [
    "def generateWithModel(lstm_model, phrases, word_data, seed = 8736, stop = 144):\n",
    "\n",
    "    tweet_generator = TweetGenerator(lstm_model, word_data)\n",
    "    \n",
    "    res = []\n",
    "    \n",
    "    for phrase in phrases:\n",
    "        id_token = [word_data.ref_word_to_id[word_data.sentence_token_start]]\n",
    "        for mot in phrase:\n",
    "            id_token.append(word_data.ref_word_to_id[mot])\n",
    "        res.append(' '.join(tweet_generator.tweet(np.array(id_token), stop = stop, seed = seed)))\n",
    "        \n",
    "    return res"
   ]
  },
  {
   "cell_type": "code",
   "execution_count": 7,
   "metadata": {},
   "outputs": [],
   "source": [
    "lstm_model_20 = load_model('../models/simpleLSTMModel/version2/{}.hdf5'.format(\"model-20\"))\n",
    "lstm_model_40 = load_model('../models/simpleLSTMModel/version2/{}.hdf5'.format(\"model-40\"))\n",
    "lstm_model_60 = load_model('../models/simpleLSTMModel/version2/{}.hdf5'.format(\"model-60\"))\n",
    "lstm_model_80 = load_model('../models/simpleLSTMModel/version2/{}.hdf5'.format(\"model-80\"))\n",
    "lstm_model_100 = load_model('../models/simpleLSTMModel/version2/{}.hdf5'.format(\"model-100\"))\n",
    "# lstm_model_140 = load_model('../models/simpleLSTMModel/version2/{}.hdf5'.format(\"model-140\"))\n",
    "# lstm_model_200 = load_model('../models/simpleLSTMModel/version2/{}.hdf5'.format(\"model-200\"))\n",
    "#lstm_model_260 = load_model('../models/simpleLSTMModel/version2/{}.hdf5'.format(\"model-260\"))\n"
   ]
  },
  {
   "cell_type": "code",
   "execution_count": 16,
   "metadata": {},
   "outputs": [],
   "source": [
    "lstm_model_final = load_model('../models/simpleLSTMModel/version2/{}.hdf5'.format(\"final_model_colab\"))"
   ]
  },
  {
   "cell_type": "code",
   "execution_count": 8,
   "metadata": {},
   "outputs": [],
   "source": [
    "phrases = [\n",
    "    [],\n",
    "    ['pas', 'content', 'de'],\n",
    "    ['c\\'', 'est', 'bien'], \n",
    "    ['je', 'veux', 'trouver'],\n",
    "    ['les', 'jeux', 'sont'],\n",
    "    ['c\\'', 'est', 'toujours'],\n",
    "    ['il', 'est']\n",
    "]"
   ]
  },
  {
   "cell_type": "code",
   "execution_count": 11,
   "metadata": {},
   "outputs": [
    {
     "name": "stderr",
     "output_type": "stream",
     "text": [
      "/home/prise6/anaconda3/envs/py35/lib/python3.5/site-packages/keras/engine/sequential.py:110: UserWarning: `Sequential.model` is deprecated. `Sequential` is a subclass of `Model`, you can just use your `Sequential` instance directly.\n",
      "  warnings.warn('`Sequential.model` is deprecated. '\n"
     ]
    },
    {
     "name": "stdout",
     "output_type": "stream",
     "text": [
      "-0.3448953\n"
     ]
    },
    {
     "data": {
      "text/plain": [
       "['_SENTENCE_START_ _MENTION_ _MENTION_ _MENTION_ _MENTION_ _MENTION_ _MENTION_ _MENTION_ _MENTION_ _HASHTAG_ _HASHTAG_ _HASHTAG_ _HASHTAG_ _HASHTAG_ _SENTENCE_STOP_',\n",
       " '_SENTENCE_START_ pas content de _HASHTAG_ pour les #jo2024 ! _SENTENCE_STOP_',\n",
       " \"_SENTENCE_START_ c' est bien que la candidature de la candidature de #paris2024 _SENTENCE_STOP_\",\n",
       " '_SENTENCE_START_ je veux trouver la candidature de la candidature de #paris2024 ! _SENTENCE_STOP_',\n",
       " '_SENTENCE_START_ les jeux sont un _HASHTAG_ pour les #jo2024 _SENTENCE_STOP_',\n",
       " \"_SENTENCE_START_ c' est toujours que pour #paris2024 ! _SENTENCE_STOP_\",\n",
       " \"_SENTENCE_START_ il est pas pas que les #jo2024 , c' est bien en _HASHTAG_ ! _SENTENCE_STOP_\"]"
      ]
     },
     "execution_count": 11,
     "metadata": {},
     "output_type": "execute_result"
    }
   ],
   "source": [
    "generateWithModel(lstm_model_20, phrases, word_data)"
   ]
  },
  {
   "cell_type": "code",
   "execution_count": 12,
   "metadata": {},
   "outputs": [
    {
     "name": "stderr",
     "output_type": "stream",
     "text": [
      "/home/prise6/anaconda3/envs/py35/lib/python3.5/site-packages/keras/engine/sequential.py:110: UserWarning: `Sequential.model` is deprecated. `Sequential` is a subclass of `Model`, you can just use your `Sequential` instance directly.\n",
      "  warnings.warn('`Sequential.model` is deprecated. '\n"
     ]
    },
    {
     "data": {
      "text/plain": [
       "['_SENTENCE_START_ _MENTION_ _MENTION_ rigoureusement contre les #jo2024 a #paris ! _SENTENCE_STOP_',\n",
       " '_SENTENCE_START_ pas content de rio pour defendre #paris2024 ! _SENTENCE_STOP_',\n",
       " \"_SENTENCE_START_ c' est bien pour la candidature de #paris2024 ! _HASHTAG_ _SENTENCE_STOP_\",\n",
       " '_SENTENCE_START_ je veux trouver la twirling du monde des _HASHTAG_ ? _HASHTAG_ ? ? ? ? ? ? ? ? ? ? ? ? ? ? ? ? ? ? ? ? ? ? ? ? ? ? ? ? ? ? ? ? ? ? ? ? ? ? ? ? ? ? ? ? ? ? ? ? ? ? ? ? ? ? ? ? ? ? ? ? ? ? ? ? ? ? ? ? ? ? ? ? ? ? ? ? ? ? ? ? ? ? ? ? ? ? ? ? ? ? ? ? ? ? ? ? ? ? ? ? ? ? ? ? ? ? ? ? ? ? ? ? ? ? ? ? ? ? ? ? ? ? ? ? ? ? ? ? ? ? ? ? ? ? ? ?',\n",
       " '_SENTENCE_START_ les jeux sont tous les jeux olympiques de 2024 ? #paris2024 _SENTENCE_STOP_',\n",
       " \"_SENTENCE_START_ c' est toujours que pour enrichir la candidature de #paris2024 ! _SENTENCE_STOP_\",\n",
       " '_SENTENCE_START_ il est pas mauvais pour les #jo2024 a #paris ! _SENTENCE_STOP_']"
      ]
     },
     "execution_count": 12,
     "metadata": {},
     "output_type": "execute_result"
    }
   ],
   "source": [
    "generateWithModel(lstm_model_40, phrases, word_data)"
   ]
  },
  {
   "cell_type": "code",
   "execution_count": 13,
   "metadata": {},
   "outputs": [
    {
     "name": "stderr",
     "output_type": "stream",
     "text": [
      "/home/prise6/anaconda3/envs/py35/lib/python3.5/site-packages/keras/engine/sequential.py:110: UserWarning: `Sequential.model` is deprecated. `Sequential` is a subclass of `Model`, you can just use your `Sequential` instance directly.\n",
      "  warnings.warn('`Sequential.model` is deprecated. '\n"
     ]
    },
    {
     "name": "stdout",
     "output_type": "stream",
     "text": [
      "-0.3936073\n",
      "-0.34988877\n"
     ]
    },
    {
     "data": {
      "text/plain": [
       "['_SENTENCE_START_ _MENTION_ _MENTION_ ils sont prets pour le pogrom , heu .. pardon le podium #paris2024 _SENTENCE_STOP_',\n",
       " \"_SENTENCE_START_ pas content de l' hotel de ville de paris pour feter les _HASHTAG_ _SENTENCE_STOP_\",\n",
       " \"_SENTENCE_START_ c' est bien connu . _HASHTAG_ . _MENTION_ . hate de voir le _HASHTAG_ anime par herve , marie de canal+ et _MENTION_ #paris2024 _HASHTAG_ _MENTION_ _SENTENCE_STOP_\",\n",
       " '_SENTENCE_START_ je veux trouver la couleur de la tour eiffel . _SENTENCE_STOP_',\n",
       " '_SENTENCE_START_ les jeux sont les artistes , et quoi . #paris2024 _SENTENCE_STOP_',\n",
       " \"_SENTENCE_START_ c' est toujours pour les _HASHTAG_ ! bonne programmation je trouve ! _HASHTAG_ _SENTENCE_STOP_\",\n",
       " '_SENTENCE_START_ il est venu juste pour faire gueuler les meufs avec sa musique pourri la et il est reparti . #paris2024 _SENTENCE_STOP_']"
      ]
     },
     "execution_count": 13,
     "metadata": {},
     "output_type": "execute_result"
    }
   ],
   "source": [
    "generateWithModel(lstm_model_60, phrases, word_data)"
   ]
  },
  {
   "cell_type": "code",
   "execution_count": 14,
   "metadata": {},
   "outputs": [
    {
     "name": "stderr",
     "output_type": "stream",
     "text": [
      "/home/prise6/anaconda3/envs/py35/lib/python3.5/site-packages/keras/engine/sequential.py:110: UserWarning: `Sequential.model` is deprecated. `Sequential` is a subclass of `Model`, you can just use your `Sequential` instance directly.\n",
      "  warnings.warn('`Sequential.model` is deprecated. '\n"
     ]
    },
    {
     "name": "stdout",
     "output_type": "stream",
     "text": [
      "-0.3004694\n",
      "-0.38103834\n",
      "-0.30244902\n",
      "-0.32534638\n",
      "-0.35464707\n",
      "-0.34399423\n",
      "-0.30064476\n",
      "-0.42015317\n"
     ]
    },
    {
     "data": {
      "text/plain": [
       "['_SENTENCE_START_ _MENTION_ _MENTION_ _MENTION_ @lafncc @univavignon _MENTION_ _MENTION_ _MENTION_ beau chantier pour prepa #jo2024 @ilfautallervoir . _SENTENCE_STOP_',\n",
       " '_SENTENCE_START_ pas content de vous faire oublier les francais . tout ca pour les _HASHTAG_ ? _MENTION_ _SENTENCE_STOP_',\n",
       " \"_SENTENCE_START_ c' est bien connu . . ! - une chance pour les _HASHTAG_ _SENTENCE_STOP_\",\n",
       " '_SENTENCE_START_ je veux trouver la champagne pour #paris2024 ? ! ? #paris2024 _SENTENCE_STOP_',\n",
       " '_SENTENCE_START_ les jeux sont la fete du sport du _HASHTAG_ ! avec les athletes pour la candidature de #paris2024 ... avec _MENTION_ pour la _HASHTAG_ . quel concert _SENTENCE_STOP_',\n",
       " \"_SENTENCE_START_ c' est toujours pour un grand challenge olympique pour les _HASHTAG_ _SENTENCE_STOP_\",\n",
       " '_SENTENCE_START_ il est etre laura avec une victoire de #paris2024 _SENTENCE_STOP_']"
      ]
     },
     "execution_count": 14,
     "metadata": {},
     "output_type": "execute_result"
    }
   ],
   "source": [
    "generateWithModel(lstm_model_80, phrases, word_data)"
   ]
  },
  {
   "cell_type": "code",
   "execution_count": 15,
   "metadata": {},
   "outputs": [
    {
     "name": "stderr",
     "output_type": "stream",
     "text": [
      "/home/prise6/anaconda3/envs/py35/lib/python3.5/site-packages/keras/engine/sequential.py:110: UserWarning: `Sequential.model` is deprecated. `Sequential` is a subclass of `Model`, you can just use your `Sequential` instance directly.\n",
      "  warnings.warn('`Sequential.model` is deprecated. '\n"
     ]
    },
    {
     "name": "stdout",
     "output_type": "stream",
     "text": [
      "-0.33798918\n",
      "-0.39059675\n",
      "-0.3679066\n",
      "-0.31954038\n",
      "-0.37466836\n"
     ]
    },
    {
     "data": {
      "text/plain": [
       "['_SENTENCE_START_ _MENTION_ _MENTION_ _MENTION_ @lafncc @univavignon _MENTION_ _MENTION_ _MENTION_ beau chantier pour prepa #jo2024 @ilfautallervoir . _SENTENCE_STOP_',\n",
       " \"_SENTENCE_START_ pas content de l' impact des jeux olympiques de sarajevo 84 #paris2024 _SENTENCE_STOP_\",\n",
       " \"_SENTENCE_START_ c' est bien mignon de vouloir organiser les jo d' ete 2024 en france mais bon le minimum ca serait d' avoir un ete kua #jo2024 _SENTENCE_STOP_\",\n",
       " '_SENTENCE_START_ je veux trouver #paris2024 pour #paris2024 _SENTENCE_STOP_',\n",
       " '_SENTENCE_START_ les jeux sont une source de bonheur pour _SENTENCE_STOP_',\n",
       " \"_SENTENCE_START_ c' est toujours l' ? _HASHTAG_ _HASHTAG_ #paris2024 _SENTENCE_STOP_\",\n",
       " \"_SENTENCE_START_ il est plus que la france est a l' elysee avec la candidature aux jo de #paris2024 _SENTENCE_STOP_\"]"
      ]
     },
     "execution_count": 15,
     "metadata": {},
     "output_type": "execute_result"
    }
   ],
   "source": [
    "generateWithModel(lstm_model_100, phrases, word_data)"
   ]
  },
  {
   "cell_type": "code",
   "execution_count": 17,
   "metadata": {},
   "outputs": [
    {
     "name": "stderr",
     "output_type": "stream",
     "text": [
      "/home/prise6/anaconda3/envs/py35/lib/python3.5/site-packages/keras/engine/sequential.py:110: UserWarning: `Sequential.model` is deprecated. `Sequential` is a subclass of `Model`, you can just use your `Sequential` instance directly.\n",
      "  warnings.warn('`Sequential.model` is deprecated. '\n"
     ]
    },
    {
     "name": "stdout",
     "output_type": "stream",
     "text": [
      "-0.4298332\n",
      "-0.33117563\n",
      "-0.32590643\n"
     ]
    },
    {
     "data": {
      "text/plain": [
       "['_SENTENCE_START_ _MENTION_ _MENTION_ rigoureusement contre les #jo2024 a #paris ! _SENTENCE_STOP_',\n",
       " \"_SENTENCE_START_ pas content de l' impact des jeux olympiques de sarajevo 84 #paris2024 _SENTENCE_STOP_\",\n",
       " \"_SENTENCE_START_ c' est bien que _HASHTAG_ en personne aille defendre le projet #paris2024 a _HASHTAG_ . ca garantit l' echec de ce projet grotesque . _HASHTAG_ _SENTENCE_STOP_\",\n",
       " '_SENTENCE_START_ je veux trouver la couleur de la tour eiffel . _SENTENCE_STOP_',\n",
       " '_SENTENCE_START_ les jeux sont les retransmissions se feraient via internet et non pas via la tv.lire // _SENTENCE_STOP_',\n",
       " \"_SENTENCE_START_ c' est toujours quand je suis pour ms la les _HASHTAG_ vont comme pour la france ! _SENTENCE_STOP_\",\n",
       " '_SENTENCE_START_ il est bien parti pour la photo de #paris avec _MENTION_ _SENTENCE_STOP_']"
      ]
     },
     "execution_count": 17,
     "metadata": {},
     "output_type": "execute_result"
    }
   ],
   "source": [
    "generateWithModel(lstm_model_final, phrases, word_data)"
   ]
  }
 ],
 "metadata": {
  "kernelspec": {
   "display_name": "Python 3",
   "language": "python",
   "name": "python3"
  },
  "language_info": {
   "codemirror_mode": {
    "name": "ipython",
    "version": 3
   },
   "file_extension": ".py",
   "mimetype": "text/x-python",
   "name": "python",
   "nbconvert_exporter": "python",
   "pygments_lexer": "ipython3",
   "version": "3.5.4"
  }
 },
 "nbformat": 4,
 "nbformat_minor": 2
}
